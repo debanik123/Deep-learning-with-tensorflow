{
 "cells": [
  {
   "cell_type": "markdown",
   "metadata": {},
   "source": [
    "Tf ESTIMATOR "
   ]
  },
  {
   "cell_type": "code",
   "execution_count": 37,
   "metadata": {},
   "outputs": [],
   "source": [
    "import numpy as np\n",
    "import pandas as pd\n",
    "import matplotlib.pyplot as plt \n",
    "import tensorflow as tf \n",
    "%matplotlib inline \n",
    "from sklearn.model_selection import train_test_split "
   ]
  },
  {
   "cell_type": "code",
   "execution_count": 38,
   "metadata": {},
   "outputs": [],
   "source": [
    "feat_cols = [tf.feature_column.numeric_column(\"x\", shape = [1])]"
   ]
  },
  {
   "cell_type": "code",
   "execution_count": 39,
   "metadata": {},
   "outputs": [
    {
     "name": "stdout",
     "output_type": "stream",
     "text": [
      "INFO:tensorflow:Using default config.\n",
      "WARNING:tensorflow:Using temporary folder as model directory: C:\\Users\\DEBANIK\\AppData\\Local\\Temp\\tmpmqfu5kw6\n",
      "INFO:tensorflow:Using config: {'_model_dir': 'C:\\\\Users\\\\DEBANIK\\\\AppData\\\\Local\\\\Temp\\\\tmpmqfu5kw6', '_tf_random_seed': None, '_save_summary_steps': 100, '_save_checkpoints_steps': None, '_save_checkpoints_secs': 600, '_session_config': allow_soft_placement: true\n",
      "graph_options {\n",
      "  rewrite_options {\n",
      "    meta_optimizer_iterations: ONE\n",
      "  }\n",
      "}\n",
      ", '_keep_checkpoint_max': 5, '_keep_checkpoint_every_n_hours': 10000, '_log_step_count_steps': 100, '_train_distribute': None, '_device_fn': None, '_protocol': None, '_eval_distribute': None, '_experimental_distribute': None, '_service': None, '_cluster_spec': <tensorflow.python.training.server_lib.ClusterSpec object at 0x0000029442E369E8>, '_task_type': 'worker', '_task_id': 0, '_global_id_in_cluster': 0, '_master': '', '_evaluation_master': '', '_is_chief': True, '_num_ps_replicas': 0, '_num_worker_replicas': 1}\n"
     ]
    }
   ],
   "source": [
    "estimator = tf.estimator.LinearRegressor(feature_columns = feat_cols)"
   ]
  },
  {
   "cell_type": "code",
   "execution_count": 40,
   "metadata": {},
   "outputs": [],
   "source": [
    "x_data = np.linspace(0.0,10.0,1000000)\n",
    "noise = np.random.randn(len(x_data))\n",
    "y_true = (0.5*x_data) + 5 + noise\n",
    "x_df = pd.DataFrame(data = x_data, columns=[\"X Data\"])\n",
    "y_df = pd.DataFrame(data = y_true, columns=[\"Y\"])\n",
    "my_data = pd.concat([x_df,y_df],axis=1)"
   ]
  },
  {
   "cell_type": "code",
   "execution_count": 41,
   "metadata": {},
   "outputs": [],
   "source": [
    "x_train, x_eval, y_train, y_eval = train_test_split(x_data, y_true, test_size = 0.3, random_state = 101)"
   ]
  },
  {
   "cell_type": "code",
   "execution_count": 42,
   "metadata": {},
   "outputs": [
    {
     "name": "stdout",
     "output_type": "stream",
     "text": [
      "(700000,)\n"
     ]
    }
   ],
   "source": [
    "print(x_train.shape)"
   ]
  },
  {
   "cell_type": "code",
   "execution_count": 43,
   "metadata": {},
   "outputs": [
    {
     "data": {
      "text/plain": [
       "(300000,)"
      ]
     },
     "execution_count": 43,
     "metadata": {},
     "output_type": "execute_result"
    }
   ],
   "source": [
    "x_eval.shape"
   ]
  },
  {
   "cell_type": "code",
   "execution_count": 44,
   "metadata": {},
   "outputs": [],
   "source": [
    "input_func  = tf.estimator.inputs.numpy_input_fn({\"x\":x_train},y_train,batch_size = 8,num_epochs = None,shuffle  = True)"
   ]
  },
  {
   "cell_type": "code",
   "execution_count": 45,
   "metadata": {},
   "outputs": [],
   "source": [
    "train_input_func = tf.estimator.inputs.numpy_input_fn({\"x\":x_train},y_train,batch_size = 8,num_epochs = 1000,shuffle  = False)"
   ]
  },
  {
   "cell_type": "code",
   "execution_count": 46,
   "metadata": {},
   "outputs": [],
   "source": [
    "eval_input_func = tf.estimator.inputs.numpy_input_fn({\"x\":x_eval},y_eval,batch_size = 8,num_epochs = 1000,shuffle  = False)"
   ]
  },
  {
   "cell_type": "code",
   "execution_count": 47,
   "metadata": {},
   "outputs": [
    {
     "name": "stdout",
     "output_type": "stream",
     "text": [
      "INFO:tensorflow:Calling model_fn.\n",
      "INFO:tensorflow:Done calling model_fn.\n",
      "INFO:tensorflow:Create CheckpointSaverHook.\n",
      "INFO:tensorflow:Graph was finalized.\n",
      "INFO:tensorflow:Running local_init_op.\n",
      "INFO:tensorflow:Done running local_init_op.\n",
      "INFO:tensorflow:Saving checkpoints for 0 into C:\\Users\\DEBANIK\\AppData\\Local\\Temp\\tmpmqfu5kw6\\model.ckpt.\n",
      "INFO:tensorflow:loss = 439.65704, step = 1\n",
      "INFO:tensorflow:global_step/sec: 652.226\n",
      "INFO:tensorflow:loss = 33.71427, step = 101 (0.158 sec)\n",
      "INFO:tensorflow:global_step/sec: 821.749\n",
      "INFO:tensorflow:loss = 18.848162, step = 201 (0.119 sec)\n",
      "INFO:tensorflow:global_step/sec: 1095.45\n",
      "INFO:tensorflow:loss = 23.349476, step = 301 (0.089 sec)\n",
      "INFO:tensorflow:global_step/sec: 747.075\n",
      "INFO:tensorflow:loss = 6.3243895, step = 401 (0.134 sec)\n",
      "INFO:tensorflow:global_step/sec: 824.017\n",
      "INFO:tensorflow:loss = 17.445236, step = 501 (0.121 sec)\n",
      "INFO:tensorflow:global_step/sec: 1000.35\n",
      "INFO:tensorflow:loss = 3.895507, step = 601 (0.116 sec)\n",
      "INFO:tensorflow:global_step/sec: 761.514\n",
      "INFO:tensorflow:loss = 7.321489, step = 701 (0.116 sec)\n",
      "INFO:tensorflow:global_step/sec: 598.8\n",
      "INFO:tensorflow:loss = 16.822445, step = 801 (0.169 sec)\n",
      "INFO:tensorflow:global_step/sec: 968.382\n",
      "INFO:tensorflow:loss = 2.3573306, step = 901 (0.101 sec)\n",
      "INFO:tensorflow:Saving checkpoints for 1000 into C:\\Users\\DEBANIK\\AppData\\Local\\Temp\\tmpmqfu5kw6\\model.ckpt.\n",
      "INFO:tensorflow:Loss for final step: 3.5350604.\n"
     ]
    },
    {
     "data": {
      "text/plain": [
       "<tensorflow.python.estimator.canned.linear.LinearRegressor at 0x29445b3f4a8>"
      ]
     },
     "execution_count": 47,
     "metadata": {},
     "output_type": "execute_result"
    }
   ],
   "source": [
    "estimator.train(input_fn = input_func,steps=1000)"
   ]
  },
  {
   "cell_type": "code",
   "execution_count": 48,
   "metadata": {},
   "outputs": [
    {
     "name": "stdout",
     "output_type": "stream",
     "text": [
      "INFO:tensorflow:Calling model_fn.\n",
      "INFO:tensorflow:Done calling model_fn.\n",
      "INFO:tensorflow:Starting evaluation at 2018-11-19-20:55:41\n",
      "INFO:tensorflow:Graph was finalized.\n",
      "INFO:tensorflow:Restoring parameters from C:\\Users\\DEBANIK\\AppData\\Local\\Temp\\tmpmqfu5kw6\\model.ckpt-1000\n",
      "INFO:tensorflow:Running local_init_op.\n",
      "INFO:tensorflow:Done running local_init_op.\n",
      "INFO:tensorflow:Evaluation [100/1000]\n",
      "INFO:tensorflow:Evaluation [200/1000]\n",
      "INFO:tensorflow:Evaluation [300/1000]\n",
      "INFO:tensorflow:Evaluation [400/1000]\n",
      "INFO:tensorflow:Evaluation [500/1000]\n",
      "INFO:tensorflow:Evaluation [600/1000]\n",
      "INFO:tensorflow:Evaluation [700/1000]\n",
      "INFO:tensorflow:Evaluation [800/1000]\n",
      "INFO:tensorflow:Evaluation [900/1000]\n",
      "INFO:tensorflow:Evaluation [1000/1000]\n",
      "INFO:tensorflow:Finished evaluation at 2018-11-19-20:55:42\n",
      "INFO:tensorflow:Saving dict for global step 1000: average_loss = 1.0908467, global_step = 1000, label/mean = 7.5198627, loss = 8.726773, prediction/mean = 7.3772726\n",
      "INFO:tensorflow:Saving 'checkpoint_path' summary for global step 1000: C:\\Users\\DEBANIK\\AppData\\Local\\Temp\\tmpmqfu5kw6\\model.ckpt-1000\n"
     ]
    }
   ],
   "source": [
    "train_matrics = estimator.evaluate(input_fn = train_input_func,steps = 1000)"
   ]
  },
  {
   "cell_type": "code",
   "execution_count": 49,
   "metadata": {},
   "outputs": [
    {
     "name": "stdout",
     "output_type": "stream",
     "text": [
      "INFO:tensorflow:Calling model_fn.\n",
      "INFO:tensorflow:Done calling model_fn.\n",
      "INFO:tensorflow:Starting evaluation at 2018-11-19-20:55:43\n",
      "INFO:tensorflow:Graph was finalized.\n",
      "INFO:tensorflow:Restoring parameters from C:\\Users\\DEBANIK\\AppData\\Local\\Temp\\tmpmqfu5kw6\\model.ckpt-1000\n",
      "INFO:tensorflow:Running local_init_op.\n",
      "INFO:tensorflow:Done running local_init_op.\n",
      "INFO:tensorflow:Evaluation [100/1000]\n",
      "INFO:tensorflow:Evaluation [200/1000]\n",
      "INFO:tensorflow:Evaluation [300/1000]\n",
      "INFO:tensorflow:Evaluation [400/1000]\n",
      "INFO:tensorflow:Evaluation [500/1000]\n",
      "INFO:tensorflow:Evaluation [600/1000]\n",
      "INFO:tensorflow:Evaluation [700/1000]\n",
      "INFO:tensorflow:Evaluation [800/1000]\n",
      "INFO:tensorflow:Evaluation [900/1000]\n",
      "INFO:tensorflow:Evaluation [1000/1000]\n",
      "INFO:tensorflow:Finished evaluation at 2018-11-19-20:55:44\n",
      "INFO:tensorflow:Saving dict for global step 1000: average_loss = 1.0905682, global_step = 1000, label/mean = 7.490747, loss = 8.7245455, prediction/mean = 7.355918\n",
      "INFO:tensorflow:Saving 'checkpoint_path' summary for global step 1000: C:\\Users\\DEBANIK\\AppData\\Local\\Temp\\tmpmqfu5kw6\\model.ckpt-1000\n"
     ]
    }
   ],
   "source": [
    "eval_matrics = estimator.evaluate(input_fn = eval_input_func,steps  = 1000)"
   ]
  },
  {
   "cell_type": "code",
   "execution_count": 50,
   "metadata": {},
   "outputs": [
    {
     "name": "stdout",
     "output_type": "stream",
     "text": [
      "traning data metrics\n",
      "{'average_loss': 1.0908467, 'label/mean': 7.5198627, 'loss': 8.726773, 'prediction/mean': 7.3772726, 'global_step': 1000}\n"
     ]
    }
   ],
   "source": [
    "print(\"traning data metrics\")\n",
    "print(train_matrics)"
   ]
  },
  {
   "cell_type": "code",
   "execution_count": 51,
   "metadata": {},
   "outputs": [
    {
     "name": "stdout",
     "output_type": "stream",
     "text": [
      "eval metrics\n",
      "{'average_loss': 1.0905682, 'label/mean': 7.490747, 'loss': 8.7245455, 'prediction/mean': 7.355918, 'global_step': 1000}\n"
     ]
    }
   ],
   "source": [
    "print(\"eval metrics\")\n",
    "print(eval_matrics)"
   ]
  },
  {
   "cell_type": "code",
   "execution_count": 52,
   "metadata": {},
   "outputs": [],
   "source": [
    "brand_new_data = np.linspace(0,10,10)"
   ]
  },
  {
   "cell_type": "code",
   "execution_count": 53,
   "metadata": {},
   "outputs": [],
   "source": [
    "input_fn_predict = tf.estimator.inputs.numpy_input_fn({\"x\":brand_new_data},shuffle = False)"
   ]
  },
  {
   "cell_type": "code",
   "execution_count": 54,
   "metadata": {},
   "outputs": [
    {
     "name": "stdout",
     "output_type": "stream",
     "text": [
      "INFO:tensorflow:Calling model_fn.\n",
      "INFO:tensorflow:Done calling model_fn.\n",
      "INFO:tensorflow:Graph was finalized.\n",
      "INFO:tensorflow:Restoring parameters from C:\\Users\\DEBANIK\\AppData\\Local\\Temp\\tmpmqfu5kw6\\model.ckpt-1000\n",
      "INFO:tensorflow:Running local_init_op.\n",
      "INFO:tensorflow:Done running local_init_op.\n"
     ]
    },
    {
     "data": {
      "text/plain": [
       "[{'predictions': array([4.422222], dtype=float32)},\n",
       " {'predictions': array([5.0786037], dtype=float32)},\n",
       " {'predictions': array([5.7349854], dtype=float32)},\n",
       " {'predictions': array([6.3913665], dtype=float32)},\n",
       " {'predictions': array([7.047748], dtype=float32)},\n",
       " {'predictions': array([7.704129], dtype=float32)},\n",
       " {'predictions': array([8.360511], dtype=float32)},\n",
       " {'predictions': array([9.016892], dtype=float32)},\n",
       " {'predictions': array([9.673274], dtype=float32)},\n",
       " {'predictions': array([10.329655], dtype=float32)}]"
      ]
     },
     "execution_count": 54,
     "metadata": {},
     "output_type": "execute_result"
    }
   ],
   "source": [
    "list(estimator.predict(input_fn = input_fn_predict))"
   ]
  },
  {
   "cell_type": "code",
   "execution_count": 55,
   "metadata": {},
   "outputs": [
    {
     "name": "stdout",
     "output_type": "stream",
     "text": [
      "INFO:tensorflow:Calling model_fn.\n",
      "INFO:tensorflow:Done calling model_fn.\n",
      "INFO:tensorflow:Graph was finalized.\n",
      "INFO:tensorflow:Restoring parameters from C:\\Users\\DEBANIK\\AppData\\Local\\Temp\\tmpmqfu5kw6\\model.ckpt-1000\n",
      "INFO:tensorflow:Running local_init_op.\n",
      "INFO:tensorflow:Done running local_init_op.\n"
     ]
    }
   ],
   "source": [
    "predictions = []\n",
    "\n",
    "\n",
    "\n",
    "for pred in estimator.predict(input_fn = input_fn_predict):\n",
    "    predictions.append(pred['predictions'])"
   ]
  },
  {
   "cell_type": "code",
   "execution_count": 56,
   "metadata": {},
   "outputs": [
    {
     "data": {
      "text/plain": [
       "[array([4.422222], dtype=float32),\n",
       " array([5.0786037], dtype=float32),\n",
       " array([5.7349854], dtype=float32),\n",
       " array([6.3913665], dtype=float32),\n",
       " array([7.047748], dtype=float32),\n",
       " array([7.704129], dtype=float32),\n",
       " array([8.360511], dtype=float32),\n",
       " array([9.016892], dtype=float32),\n",
       " array([9.673274], dtype=float32),\n",
       " array([10.329655], dtype=float32)]"
      ]
     },
     "execution_count": 56,
     "metadata": {},
     "output_type": "execute_result"
    }
   ],
   "source": [
    "predictions"
   ]
  },
  {
   "cell_type": "code",
   "execution_count": 59,
   "metadata": {},
   "outputs": [
    {
     "data": {
      "text/plain": [
       "[<matplotlib.lines.Line2D at 0x29445f24d30>]"
      ]
     },
     "execution_count": 59,
     "metadata": {},
     "output_type": "execute_result"
    },
    {
     "data": {
      "image/png": "[encoded data removed]",
      "text/plain": [
       "<Figure size 432x288 with 1 Axes>"
      ]
     },
     "metadata": {},
     "output_type": "display_data"
    }
   ],
   "source": [
    "my_data.sample(n = 250).plot(kind = 'scatter', x = \"X Data\", y = \"Y\")\n",
    "plt.plot(brand_new_data,predictions,\"r*\")"
   ]
  },
  {
   "cell_type": "code",
   "execution_count": null,
   "metadata": {},
   "outputs": [],
   "source": []
  },
  {
   "cell_type": "code",
   "execution_count": null,
   "metadata": {},
   "outputs": [],
   "source": []
  }
 ],
 "metadata": {
  "kernelspec": {
   "display_name": "Python 3",
   "language": "python",
   "name": "python3"
  },
  "language_info": {
   "codemirror_mode": {
    "name": "ipython",
    "version": 3
   },
   "file_extension": ".py",
   "mimetype": "text/x-python",
   "name": "python",
   "nbconvert_exporter": "python",
   "pygments_lexer": "ipython3",
   "version": "3.6.5"
  }
 },
 "nbformat": 4,
 "nbformat_minor": 2
}
