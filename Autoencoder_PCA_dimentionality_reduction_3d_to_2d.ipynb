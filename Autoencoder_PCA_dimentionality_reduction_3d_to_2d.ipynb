{
 "cells": [
  {
   "cell_type": "code",
   "execution_count": 1,
   "metadata": {},
   "outputs": [],
   "source": [
    "import numpy as np\n",
    "import matplotlib.pyplot as plt"
   ]
  },
  {
   "cell_type": "code",
   "execution_count": 2,
   "metadata": {},
   "outputs": [],
   "source": [
    "%matplotlib inline "
   ]
  },
  {
   "cell_type": "code",
   "execution_count": 3,
   "metadata": {},
   "outputs": [],
   "source": [
    "from sklearn.datasets import make_blobs"
   ]
  },
  {
   "cell_type": "code",
   "execution_count": 4,
   "metadata": {},
   "outputs": [],
   "source": [
    "data = make_blobs(n_samples=100,n_features=3,centers=2,random_state=101)"
   ]
  },
  {
   "cell_type": "code",
   "execution_count": 5,
   "metadata": {},
   "outputs": [
    {
     "data": {
      "text/plain": [
       "(array([[  0.99429187,   0.87511711,  -9.99909683],\n",
       "        [  0.65761885,   0.91624771, -10.18458517],\n",
       "        [ -6.48804352,   3.29034852,   6.73159871],\n",
       "        [  0.5815206 ,   2.06249948,  -9.07157495],\n",
       "        [ -7.42442678,   5.30835517,   6.86341624],\n",
       "        [  2.26790487,   0.40816482, -10.17230518],\n",
       "        [  1.62073713,  -0.05416228,  -9.92461083],\n",
       "        [  2.41199108,   1.03683306,  -9.20017913],\n",
       "        [ -7.62441747,   5.87096075,   5.41069708],\n",
       "        [ -7.34160752,   3.671108  ,   7.36634568],\n",
       "        [ -7.56358517,   3.5736335 ,   5.34284552],\n",
       "        [  2.22972735,   1.6514787 ,  -7.43386319],\n",
       "        [ -0.75249891,   2.31574949,  -9.26873428],\n",
       "        [  0.54946324,   0.5581557 ,  -7.88852506],\n",
       "        [ -0.4308995 ,   0.48011452,  -8.47545896],\n",
       "        [ -1.19436032,   2.54705473,  -8.90232874],\n",
       "        [ -0.06318407,   2.4416449 , -11.40312057],\n",
       "        [ -6.70999871,   3.8246846 ,   7.34365184],\n",
       "        [  1.32054601,   2.60559237, -10.47729501],\n",
       "        [  0.15391601,   2.19349145,  -9.8137736 ],\n",
       "        [  0.32833903,   2.43933589,  -9.58711337],\n",
       "        [ -7.01543966,   4.3914134 ,   9.46294692],\n",
       "        [  0.16543782,   1.89916047,  -9.03802666],\n",
       "        [  0.7185004 ,   1.58025637,  -9.24601361],\n",
       "        [ -7.65700277,   1.13777271,   7.33896645],\n",
       "        [ -7.12044288,   4.64758461,   5.7025879 ],\n",
       "        [  1.93475242,   0.29764177, -10.81589403],\n",
       "        [ -6.4220804 ,   2.9760733 ,   5.9578275 ],\n",
       "        [ -7.39003004,   2.67596248,   5.15308172],\n",
       "        [ -7.03832316,   4.56563667,   6.9080243 ],\n",
       "        [ -4.07557669,   3.15827975,   7.17466421],\n",
       "        [ -0.61543385,   1.89810338,  -9.54728879],\n",
       "        [  0.9339379 ,  -0.60481651,  -8.69039341],\n",
       "        [ -4.81755245,   4.40108636,   6.83159809],\n",
       "        [  0.57115017,   2.27751662, -10.99144692],\n",
       "        [ -1.0016875 ,   1.45481168,  -9.84157087],\n",
       "        [  1.7353108 ,   2.05515725, -10.33561537],\n",
       "        [ -8.68467997,   3.42602942,   7.74064767],\n",
       "        [  0.9790905 ,   1.09403369, -10.27859245],\n",
       "        [ -5.79759684,   3.99975626,   5.28641819],\n",
       "        [  2.44569994,   1.61087572,  -7.12752821],\n",
       "        [  1.81046805,   2.37480989, -11.57172776],\n",
       "        [ -6.24790729,   4.71286377,   7.00772091],\n",
       "        [ -8.20249087,   4.507669  ,   5.01040047],\n",
       "        [  1.00918185,   2.44847681,  -9.46167595],\n",
       "        [ -6.78887759,   3.65986315,   6.69035824],\n",
       "        [  0.51876688,   3.39210906,  -6.82454819],\n",
       "        [ -8.40882774,   4.56913524,   5.60134675],\n",
       "        [ -0.44335605,   1.52382915, -10.23516698],\n",
       "        [ -5.24785153,   4.49966814,   8.03764923],\n",
       "        [ -6.13431395,   4.96544332,   6.2300389 ],\n",
       "        [ -1.37811338,   0.25423232,  -9.56535619],\n",
       "        [  0.29639341,   2.06317757,  -7.27566903],\n",
       "        [ -6.17610612,   3.075033  ,   5.27964757],\n",
       "        [ -0.53891248,   2.13413934, -10.65359751],\n",
       "        [ -5.43954882,   4.60333595,   7.00880287],\n",
       "        [  0.85678605,   0.8243512 ,  -9.24182016],\n",
       "        [ -0.65480344,   3.64490698, -10.40190804],\n",
       "        [ -6.05573415,   2.7773348 ,   7.52484115],\n",
       "        [ -0.80584461,   2.02382964,  -9.04448516],\n",
       "        [ -0.2822863 ,   0.6580264 ,  -9.77693397],\n",
       "        [ -5.66674102,   3.16763048,   5.12826615],\n",
       "        [  1.35278283,   0.48747748,  -7.56765133],\n",
       "        [ -6.47593889,   4.94635225,   5.58024423],\n",
       "        [ -6.86800262,   3.73468111,   7.56696814],\n",
       "        [ -6.65886532,   4.40410604,   5.26881157],\n",
       "        [ -7.14994986,   4.91456692,   7.87968128],\n",
       "        [  1.05699629,   0.55026047,  -9.12488396],\n",
       "        [  0.51509708,   0.68050659, -10.81343557],\n",
       "        [ -5.53765102,   2.62442136,   6.67758229],\n",
       "        [ -5.69865986,   5.29135203,   7.60759509],\n",
       "        [  1.16100188,   2.38907142,  -9.81875417],\n",
       "        [  0.47499933,   0.9339037 ,  -8.87174606],\n",
       "        [ -9.30656147,   5.22810174,   6.85594634],\n",
       "        [  1.1112886 ,   0.704398  ,  -8.84366818],\n",
       "        [ -6.16198043,   4.51338238,   3.94147281],\n",
       "        [ -7.80518114,   2.90711167,   7.43205869],\n",
       "        [  0.0760756 ,   0.83523148,  -9.19351984],\n",
       "        [  0.52875302,   1.74119648,  -8.75603028],\n",
       "        [ -5.95090888,   1.65297671,   6.51129114],\n",
       "        [ -5.96070958,   3.99201262,   6.47214495],\n",
       "        [ -5.04581642,   4.99576956,   5.19961789],\n",
       "        [ -7.37241005,   3.45206025,   6.768636  ],\n",
       "        [ -6.78944842,   3.99833476,   7.51229177],\n",
       "        [ -7.55471973,   3.55026388,   5.66470924],\n",
       "        [ -0.66529095,   1.61015124, -10.56716006],\n",
       "        [ -4.54002269,   2.65918125,   5.37145495],\n",
       "        [ -1.3503111 ,   1.74732484,  -9.962986  ],\n",
       "        [  1.01148144,   1.71601719,  -7.73679255],\n",
       "        [ -8.4775757 ,   3.32543613,   5.01187807],\n",
       "        [ -1.29337527,   2.09088685,  -9.40440999],\n",
       "        [ -6.35533268,   3.46502969,   5.25698778],\n",
       "        [ -0.08134593,   1.75689092,  -9.23424015],\n",
       "        [  1.13567847,   1.48631141,  -8.79172846],\n",
       "        [ -6.40192863,   2.93960956,   7.64023642],\n",
       "        [ -6.85482364,   5.79607878,   7.6819934 ],\n",
       "        [ -7.63261577,   3.58015883,   5.73234913],\n",
       "        [ -6.90248768,   2.77693736,   8.39388742],\n",
       "        [ -6.3033601 ,   4.1181198 ,   7.6667101 ],\n",
       "        [ -7.19637228,   3.31445067,   8.4214142 ]]),\n",
       " array([0, 0, 1, 0, 1, 0, 0, 0, 1, 1, 1, 0, 0, 0, 0, 0, 0, 1, 0, 0, 0, 1,\n",
       "        0, 0, 1, 1, 0, 1, 1, 1, 1, 0, 0, 1, 0, 0, 0, 1, 0, 1, 0, 0, 1, 1,\n",
       "        0, 1, 0, 1, 0, 1, 1, 0, 0, 1, 0, 1, 0, 0, 1, 0, 0, 1, 0, 1, 1, 1,\n",
       "        1, 0, 0, 1, 1, 0, 0, 1, 0, 1, 1, 0, 0, 1, 1, 1, 1, 1, 1, 0, 1, 0,\n",
       "        0, 1, 0, 1, 0, 0, 1, 1, 1, 1, 1, 1]))"
      ]
     },
     "execution_count": 5,
     "metadata": {},
     "output_type": "execute_result"
    }
   ],
   "source": [
    "tuple(data)"
   ]
  },
  {
   "cell_type": "code",
   "execution_count": 6,
   "metadata": {},
   "outputs": [
    {
     "data": {
      "text/plain": [
       "array([[  0.99429187,   0.87511711,  -9.99909683],\n",
       "       [  0.65761885,   0.91624771, -10.18458517],\n",
       "       [ -6.48804352,   3.29034852,   6.73159871],\n",
       "       [  0.5815206 ,   2.06249948,  -9.07157495],\n",
       "       [ -7.42442678,   5.30835517,   6.86341624],\n",
       "       [  2.26790487,   0.40816482, -10.17230518],\n",
       "       [  1.62073713,  -0.05416228,  -9.92461083],\n",
       "       [  2.41199108,   1.03683306,  -9.20017913],\n",
       "       [ -7.62441747,   5.87096075,   5.41069708],\n",
       "       [ -7.34160752,   3.671108  ,   7.36634568],\n",
       "       [ -7.56358517,   3.5736335 ,   5.34284552],\n",
       "       [  2.22972735,   1.6514787 ,  -7.43386319],\n",
       "       [ -0.75249891,   2.31574949,  -9.26873428],\n",
       "       [  0.54946324,   0.5581557 ,  -7.88852506],\n",
       "       [ -0.4308995 ,   0.48011452,  -8.47545896],\n",
       "       [ -1.19436032,   2.54705473,  -8.90232874],\n",
       "       [ -0.06318407,   2.4416449 , -11.40312057],\n",
       "       [ -6.70999871,   3.8246846 ,   7.34365184],\n",
       "       [  1.32054601,   2.60559237, -10.47729501],\n",
       "       [  0.15391601,   2.19349145,  -9.8137736 ],\n",
       "       [  0.32833903,   2.43933589,  -9.58711337],\n",
       "       [ -7.01543966,   4.3914134 ,   9.46294692],\n",
       "       [  0.16543782,   1.89916047,  -9.03802666],\n",
       "       [  0.7185004 ,   1.58025637,  -9.24601361],\n",
       "       [ -7.65700277,   1.13777271,   7.33896645],\n",
       "       [ -7.12044288,   4.64758461,   5.7025879 ],\n",
       "       [  1.93475242,   0.29764177, -10.81589403],\n",
       "       [ -6.4220804 ,   2.9760733 ,   5.9578275 ],\n",
       "       [ -7.39003004,   2.67596248,   5.15308172],\n",
       "       [ -7.03832316,   4.56563667,   6.9080243 ],\n",
       "       [ -4.07557669,   3.15827975,   7.17466421],\n",
       "       [ -0.61543385,   1.89810338,  -9.54728879],\n",
       "       [  0.9339379 ,  -0.60481651,  -8.69039341],\n",
       "       [ -4.81755245,   4.40108636,   6.83159809],\n",
       "       [  0.57115017,   2.27751662, -10.99144692],\n",
       "       [ -1.0016875 ,   1.45481168,  -9.84157087],\n",
       "       [  1.7353108 ,   2.05515725, -10.33561537],\n",
       "       [ -8.68467997,   3.42602942,   7.74064767],\n",
       "       [  0.9790905 ,   1.09403369, -10.27859245],\n",
       "       [ -5.79759684,   3.99975626,   5.28641819],\n",
       "       [  2.44569994,   1.61087572,  -7.12752821],\n",
       "       [  1.81046805,   2.37480989, -11.57172776],\n",
       "       [ -6.24790729,   4.71286377,   7.00772091],\n",
       "       [ -8.20249087,   4.507669  ,   5.01040047],\n",
       "       [  1.00918185,   2.44847681,  -9.46167595],\n",
       "       [ -6.78887759,   3.65986315,   6.69035824],\n",
       "       [  0.51876688,   3.39210906,  -6.82454819],\n",
       "       [ -8.40882774,   4.56913524,   5.60134675],\n",
       "       [ -0.44335605,   1.52382915, -10.23516698],\n",
       "       [ -5.24785153,   4.49966814,   8.03764923],\n",
       "       [ -6.13431395,   4.96544332,   6.2300389 ],\n",
       "       [ -1.37811338,   0.25423232,  -9.56535619],\n",
       "       [  0.29639341,   2.06317757,  -7.27566903],\n",
       "       [ -6.17610612,   3.075033  ,   5.27964757],\n",
       "       [ -0.53891248,   2.13413934, -10.65359751],\n",
       "       [ -5.43954882,   4.60333595,   7.00880287],\n",
       "       [  0.85678605,   0.8243512 ,  -9.24182016],\n",
       "       [ -0.65480344,   3.64490698, -10.40190804],\n",
       "       [ -6.05573415,   2.7773348 ,   7.52484115],\n",
       "       [ -0.80584461,   2.02382964,  -9.04448516],\n",
       "       [ -0.2822863 ,   0.6580264 ,  -9.77693397],\n",
       "       [ -5.66674102,   3.16763048,   5.12826615],\n",
       "       [  1.35278283,   0.48747748,  -7.56765133],\n",
       "       [ -6.47593889,   4.94635225,   5.58024423],\n",
       "       [ -6.86800262,   3.73468111,   7.56696814],\n",
       "       [ -6.65886532,   4.40410604,   5.26881157],\n",
       "       [ -7.14994986,   4.91456692,   7.87968128],\n",
       "       [  1.05699629,   0.55026047,  -9.12488396],\n",
       "       [  0.51509708,   0.68050659, -10.81343557],\n",
       "       [ -5.53765102,   2.62442136,   6.67758229],\n",
       "       [ -5.69865986,   5.29135203,   7.60759509],\n",
       "       [  1.16100188,   2.38907142,  -9.81875417],\n",
       "       [  0.47499933,   0.9339037 ,  -8.87174606],\n",
       "       [ -9.30656147,   5.22810174,   6.85594634],\n",
       "       [  1.1112886 ,   0.704398  ,  -8.84366818],\n",
       "       [ -6.16198043,   4.51338238,   3.94147281],\n",
       "       [ -7.80518114,   2.90711167,   7.43205869],\n",
       "       [  0.0760756 ,   0.83523148,  -9.19351984],\n",
       "       [  0.52875302,   1.74119648,  -8.75603028],\n",
       "       [ -5.95090888,   1.65297671,   6.51129114],\n",
       "       [ -5.96070958,   3.99201262,   6.47214495],\n",
       "       [ -5.04581642,   4.99576956,   5.19961789],\n",
       "       [ -7.37241005,   3.45206025,   6.768636  ],\n",
       "       [ -6.78944842,   3.99833476,   7.51229177],\n",
       "       [ -7.55471973,   3.55026388,   5.66470924],\n",
       "       [ -0.66529095,   1.61015124, -10.56716006],\n",
       "       [ -4.54002269,   2.65918125,   5.37145495],\n",
       "       [ -1.3503111 ,   1.74732484,  -9.962986  ],\n",
       "       [  1.01148144,   1.71601719,  -7.73679255],\n",
       "       [ -8.4775757 ,   3.32543613,   5.01187807],\n",
       "       [ -1.29337527,   2.09088685,  -9.40440999],\n",
       "       [ -6.35533268,   3.46502969,   5.25698778],\n",
       "       [ -0.08134593,   1.75689092,  -9.23424015],\n",
       "       [  1.13567847,   1.48631141,  -8.79172846],\n",
       "       [ -6.40192863,   2.93960956,   7.64023642],\n",
       "       [ -6.85482364,   5.79607878,   7.6819934 ],\n",
       "       [ -7.63261577,   3.58015883,   5.73234913],\n",
       "       [ -6.90248768,   2.77693736,   8.39388742],\n",
       "       [ -6.3033601 ,   4.1181198 ,   7.6667101 ],\n",
       "       [ -7.19637228,   3.31445067,   8.4214142 ]])"
      ]
     },
     "execution_count": 6,
     "metadata": {},
     "output_type": "execute_result"
    }
   ],
   "source": [
    "data[0]"
   ]
  },
  {
   "cell_type": "code",
   "execution_count": 7,
   "metadata": {},
   "outputs": [
    {
     "data": {
      "text/plain": [
       "array([0, 0, 1, 0, 1, 0, 0, 0, 1, 1, 1, 0, 0, 0, 0, 0, 0, 1, 0, 0, 0, 1,\n",
       "       0, 0, 1, 1, 0, 1, 1, 1, 1, 0, 0, 1, 0, 0, 0, 1, 0, 1, 0, 0, 1, 1,\n",
       "       0, 1, 0, 1, 0, 1, 1, 0, 0, 1, 0, 1, 0, 0, 1, 0, 0, 1, 0, 1, 1, 1,\n",
       "       1, 0, 0, 1, 1, 0, 0, 1, 0, 1, 1, 0, 0, 1, 1, 1, 1, 1, 1, 0, 1, 0,\n",
       "       0, 1, 0, 1, 0, 0, 1, 1, 1, 1, 1, 1])"
      ]
     },
     "execution_count": 7,
     "metadata": {},
     "output_type": "execute_result"
    }
   ],
   "source": [
    "data[1]"
   ]
  },
  {
   "cell_type": "code",
   "execution_count": 8,
   "metadata": {},
   "outputs": [],
   "source": [
    "from sklearn.preprocessing import MinMaxScaler"
   ]
  },
  {
   "cell_type": "code",
   "execution_count": 9,
   "metadata": {},
   "outputs": [],
   "source": [
    "scaler = MinMaxScaler()\n",
    "scaled_data = scaler.fit_transform(data[0])"
   ]
  },
  {
   "cell_type": "code",
   "execution_count": 10,
   "metadata": {},
   "outputs": [],
   "source": [
    "data_x = scaled_data[:,0]\n",
    "data_y = scaled_data[:,1]\n",
    "data_z = scaled_data[:,2]"
   ]
  },
  {
   "cell_type": "code",
   "execution_count": 11,
   "metadata": {},
   "outputs": [],
   "source": [
    "from mpl_toolkits.mplot3d import Axes3D"
   ]
  },
  {
   "cell_type": "code",
   "execution_count": 14,
   "metadata": {},
   "outputs": [
    {
     "data": {
      "text/plain": [
       "<mpl_toolkits.mplot3d.art3d.Path3DCollection at 0x1be3a71c860>"
      ]
     },
     "execution_count": 14,
     "metadata": {},
     "output_type": "execute_result"
    },
    {
     "data": {
      "image/png": "[encoded data removed]",
      "text/plain": [
       "<Figure size 432x288 with 1 Axes>"
      ]
     },
     "metadata": {},
     "output_type": "display_data"
    }
   ],
   "source": [
    "fit = plt.figure()\n",
    "ax = fit.add_subplot(111,projection=\"3d\")\n",
    "ax.scatter(data_x,data_y,data_z,c = data[1])"
   ]
  },
  {
   "cell_type": "code",
   "execution_count": 15,
   "metadata": {},
   "outputs": [],
   "source": [
    "import tensorflow as tf\n",
    "from tensorflow.contrib.layers import fully_connected"
   ]
  },
  {
   "cell_type": "code",
   "execution_count": 16,
   "metadata": {},
   "outputs": [],
   "source": [
    "num_inputs = 3\n",
    "num_hidden = 2\n",
    "num_outputs = num_inputs"
   ]
  },
  {
   "cell_type": "code",
   "execution_count": 17,
   "metadata": {},
   "outputs": [],
   "source": [
    "learning_rate = 0.01"
   ]
  },
  {
   "cell_type": "code",
   "execution_count": 18,
   "metadata": {},
   "outputs": [],
   "source": [
    "X = tf.placeholder(tf.float32, shape=[None, num_inputs])"
   ]
  },
  {
   "cell_type": "code",
   "execution_count": 19,
   "metadata": {},
   "outputs": [],
   "source": [
    "hidden = fully_connected(X,num_hidden,activation_fn=None)\n",
    "outputs = fully_connected(hidden,num_outputs,activation_fn=None)"
   ]
  },
  {
   "cell_type": "code",
   "execution_count": 20,
   "metadata": {},
   "outputs": [],
   "source": [
    "loss = tf.reduce_mean(tf.square(outputs-X))"
   ]
  },
  {
   "cell_type": "code",
   "execution_count": 21,
   "metadata": {},
   "outputs": [],
   "source": [
    "optimizer = tf.train.AdamOptimizer(learning_rate)\n",
    "train = optimizer.minimize(loss)"
   ]
  },
  {
   "cell_type": "code",
   "execution_count": 22,
   "metadata": {},
   "outputs": [],
   "source": [
    "init = tf.global_variables_initializer()"
   ]
  },
  {
   "cell_type": "code",
   "execution_count": 23,
   "metadata": {},
   "outputs": [],
   "source": [
    "num_iteration = 1000\n",
    "with tf.Session() as sess:\n",
    "    sess.run(init)\n",
    "    for i in range(num_iteration):\n",
    "        sess.run(train,feed_dict={X:scaled_data})\n",
    "    \n",
    "    output_2d = hidden.eval(feed_dict={X:scaled_data})"
   ]
  },
  {
   "cell_type": "code",
   "execution_count": 24,
   "metadata": {},
   "outputs": [
    {
     "data": {
      "text/plain": [
       "array([[-0.19943039,  0.292851  ],\n",
       "       [-0.18279497,  0.29290065],\n",
       "       [ 0.33489305, -0.8489395 ],\n",
       "       [-0.05800962,  0.2829059 ],\n",
       "       [ 0.5834734 , -0.79039085],\n",
       "       [-0.2956435 ,  0.32805315],\n",
       "       [-0.32100755,  0.26545307],\n",
       "       [-0.23391052,  0.30853602],\n",
       "       [ 0.6501707 , -0.6846776 ],\n",
       "       [ 0.40670484, -0.8994169 ],\n",
       "       [ 0.40396774, -0.79456455],\n",
       "       [-0.1615322 ,  0.22941443],\n",
       "       [ 0.01762673,  0.25623414],\n",
       "       [-0.21629338,  0.13645765],\n",
       "       [-0.1888703 ,  0.12933454],\n",
       "       [ 0.05844235,  0.22962284],\n",
       "       [ 0.00525167,  0.41370422],\n",
       "       [ 0.3999068 , -0.86617625],\n",
       "       [-0.02771738,  0.42078587],\n",
       "       [-0.02864455,  0.31656173],\n",
       "       [-0.00886051,  0.32241514],\n",
       "       [ 0.47178993, -0.9730612 ],\n",
       "       [-0.06012844,  0.25677714],\n",
       "       [-0.11427425,  0.27395085],\n",
       "       [ 0.1492101 , -1.0379884 ],\n",
       "       [ 0.501896  , -0.7443375 ],\n",
       "       [-0.2953558 ,  0.3473429 ],\n",
       "       [ 0.29891342, -0.8170859 ],\n",
       "       [ 0.30224586, -0.8222343 ],\n",
       "       [ 0.49049085, -0.8157967 ],\n",
       "       [ 0.23274231, -0.7892809 ],\n",
       "       [-0.03180724,  0.25663444],\n",
       "       [-0.35405567,  0.1392113 ],\n",
       "       [ 0.3917725 , -0.73474663],\n",
       "       [-0.03527588,  0.40559468],\n",
       "       [-0.064828  ,  0.23664945],\n",
       "       [-0.10130474,  0.40052626],\n",
       "       [ 0.4298956 , -0.9850362 ],\n",
       "       [-0.17569661,  0.3196765 ],\n",
       "       [ 0.38461375, -0.70219964],\n",
       "       [-0.1736668 ,  0.21771362],\n",
       "       [-0.070417  ,  0.4918125 ],\n",
       "       [ 0.47724065, -0.783959  ],\n",
       "       [ 0.5264414 , -0.7523255 ],\n",
       "       [-0.03276045,  0.341576  ],\n",
       "       [ 0.38512588, -0.8393438 ],\n",
       "       [ 0.08604199,  0.21641362],\n",
       "       [ 0.5406629 , -0.79164505],\n",
       "       [-0.07801805,  0.28449056],\n",
       "       [ 0.41828042, -0.8167031 ],\n",
       "       [ 0.4997143 , -0.7213894 ],\n",
       "       [-0.1784849 ,  0.14539921],\n",
       "       [-0.04706097,  0.16707307],\n",
       "       [ 0.30025658, -0.76303947],\n",
       "       [-0.00981652,  0.33615753],\n",
       "       [ 0.43604395, -0.758656  ],\n",
       "       [-0.19960319,  0.24076572],\n",
       "       [ 0.15491858,  0.3934174 ],\n",
       "       [ 0.2648005 , -0.9047181 ],\n",
       "       [-0.01136619,  0.22632518],\n",
       "       [-0.17573749,  0.22008142],\n",
       "       [ 0.29142195, -0.7300347 ],\n",
       "       [-0.25310048,  0.1448417 ],\n",
       "       [ 0.51001984, -0.697437  ],\n",
       "       [ 0.39618376, -0.8898209 ],\n",
       "       [ 0.45904967, -0.7136503 ],\n",
       "       [ 0.5318702 , -0.8592094 ],\n",
       "       [-0.23600335,  0.22772446],\n",
       "       [-0.20277327,  0.3122848 ],\n",
       "       [ 0.22940171, -0.84312356],\n",
       "       [ 0.5187332 , -0.7687665 ],\n",
       "       [-0.04471085,  0.3652465 ],\n",
       "       [-0.17391317,  0.21007955],\n",
       "       [ 0.6437886 , -0.8659706 ],\n",
       "       [-0.22155058,  0.22115877],\n",
       "       [ 0.45214936, -0.61154747],\n",
       "       [ 0.34254512, -0.95961714],\n",
       "       [-0.16988106,  0.20864472],\n",
       "       [-0.09012119,  0.24619707],\n",
       "       [ 0.14131418, -0.89833105],\n",
       "       [ 0.3900531 , -0.7781302 ],\n",
       "       [ 0.46286565, -0.6180148 ],\n",
       "       [ 0.3844209 , -0.8767374 ],\n",
       "       [ 0.42129523, -0.87028867],\n",
       "       [ 0.40124208, -0.8142196 ],\n",
       "       [-0.06081676,  0.2997751 ],\n",
       "       [ 0.1962787 , -0.72688454],\n",
       "       [-0.02104437,  0.24520999],\n",
       "       [-0.11019662,  0.20380759],\n",
       "       [ 0.41095763, -0.8227157 ],\n",
       "       [ 0.01349658,  0.23211372],\n",
       "       [ 0.3482212 , -0.7488446 ],\n",
       "       [-0.06625933,  0.2516155 ],\n",
       "       [-0.1393956 ,  0.25859767],\n",
       "       [ 0.2947239 , -0.91649204],\n",
       "       [ 0.6146373 , -0.79179287],\n",
       "       [ 0.4072827 , -0.8196392 ],\n",
       "       [ 0.29594523, -0.98790485],\n",
       "       [ 0.4162754 , -0.8546722 ],\n",
       "       [ 0.36378142, -0.9735669 ]], dtype=float32)"
      ]
     },
     "execution_count": 24,
     "metadata": {},
     "output_type": "execute_result"
    }
   ],
   "source": [
    "output_2d"
   ]
  },
  {
   "cell_type": "code",
   "execution_count": 26,
   "metadata": {},
   "outputs": [
    {
     "data": {
      "text/plain": [
       "<matplotlib.collections.PathCollection at 0x1be41ed61d0>"
      ]
     },
     "execution_count": 26,
     "metadata": {},
     "output_type": "execute_result"
    },
    {
     "data": {
      "image/png": "[encoded data removed]",
      "text/plain": [
       "<Figure size 432x288 with 1 Axes>"
      ]
     },
     "metadata": {},
     "output_type": "display_data"
    }
   ],
   "source": [
    "plt.scatter(output_2d[:,0],output_2d[:,1],c = data[1])"
   ]
  },
  {
   "cell_type": "code",
   "execution_count": null,
   "metadata": {},
   "outputs": [],
   "source": []
  }
 ],
 "metadata": {
  "kernelspec": {
   "display_name": "Python 3",
   "language": "python",
   "name": "python3"
  },
  "language_info": {
   "codemirror_mode": {
    "name": "ipython",
    "version": 3
   },
   "file_extension": ".py",
   "mimetype": "text/x-python",
   "name": "python",
   "nbconvert_exporter": "python",
   "pygments_lexer": "ipython3",
   "version": "3.6.5"
  }
 },
 "nbformat": 4,
 "nbformat_minor": 2
}
